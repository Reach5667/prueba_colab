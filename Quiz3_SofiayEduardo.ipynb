{
  "nbformat": 4,
  "nbformat_minor": 0,
  "metadata": {
    "colab": {
      "provenance": []
    },
    "kernelspec": {
      "name": "python3",
      "display_name": "Python 3"
    },
    "language_info": {
      "name": "python"
    }
  },
  "cells": [
    {
      "cell_type": "code",
      "execution_count": 1,
      "metadata": {
        "id": "JMOGI79ZkNiN"
      },
      "outputs": [],
      "source": [
        "### Loading Required Libraries\n",
        "import numpy as np\n",
        "import pandas as pd\n",
        "import seaborn as sns\n",
        "import matplotlib.pyplot as plt\n",
        "import statsmodels.api as sm\n",
        "import statsmodels.formula.api as smf\n",
        "from sklearn.linear_model import LogisticRegression\n",
        "from sklearn.metrics import accuracy_score, classification_report, confusion_matrix, roc_curve, auc\n",
        "from sklearn.model_selection import train_test_split\n",
        "from sklearn.metrics import confusion_matrix\n",
        "from sklearn.metrics import r2_score, mean_squared_error\n",
        "from sklearn.preprocessing import PolynomialFeatures\n",
        "from sklearn.linear_model import LinearRegression\n",
        "from sklearn.model_selection import train_test_split\n",
        "from sklearn.metrics import accuracy_score, confusion_matrix, roc_auc_score, roc_curve\n",
        "\n",
        "%matplotlib inline\n",
        "\n",
        "### defining palette of colors\n",
        "col_list = ['#005f9a', '#00CDCD', '#f1bdbf']\n",
        "sns.set_palette(col_list)"
      ]
    },
    {
      "cell_type": "code",
      "source": [
        "### Importing dataset\n",
        "credit_df = pd.read_csv('student_credit_dataset.csv')"
      ],
      "metadata": {
        "id": "oaGF4_dCk3QU"
      },
      "execution_count": 2,
      "outputs": []
    },
    {
      "cell_type": "markdown",
      "source": [
        "#### Analisis Exploratorio"
      ],
      "metadata": {
        "id": "5qPxz3F8mPsX"
      }
    },
    {
      "cell_type": "code",
      "source": [
        "df_texto = credit_df.select_dtypes(include=['object'])\n",
        "df_numerico = credit_df.select_dtypes(include=['number'])"
      ],
      "metadata": {
        "id": "aVhYynH6pb8h"
      },
      "execution_count": 3,
      "outputs": []
    },
    {
      "cell_type": "code",
      "source": [
        "descriptivas_numericas = credit_df.describe(include='all')\n",
        "\n",
        "tabla_descriptivas = pd.DataFrame({\n",
        "    'Variable': descriptivas_numericas.columns,\n",
        "    'Media': descriptivas_numericas.loc['mean'],\n",
        "    'Mediana': descriptivas_numericas.loc['50%'],\n",
        "    'Moda': df_numerico.mode().iloc[0]\n",
        "})\n",
        "\n",
        "print(tabla_descriptivas)"
      ],
      "metadata": {
        "id": "51i0hOiBmLL4",
        "colab": {
          "base_uri": "https://localhost:8080/",
          "height": 0
        },
        "outputId": "0693bf84-99f9-4bd6-ba49-ef314612591c",
        "collapsed": true
      },
      "execution_count": 4,
      "outputs": [
        {
          "output_type": "stream",
          "name": "stdout",
          "text": [
            "            Variable      Media  Mediana     Moda\n",
            "age           income    55.6675     56.0   44.000\n",
            "balance      balance    520.015    459.5    0.000\n",
            "cards          limit     2.9575      3.0    2.000\n",
            "education     rating      13.45     14.0   16.000\n",
            "ethnicity      cards        NaN      NaN      NaN\n",
            "gender           age        NaN      NaN      NaN\n",
            "income     education  45.218885  33.1155   23.793\n",
            "limit         gender     4735.6   4622.5  855.000\n",
            "married      student        NaN      NaN      NaN\n",
            "rating       married     354.94    344.0  344.000\n",
            "student    ethnicity        NaN      NaN      NaN\n"
          ]
        }
      ]
    },
    {
      "cell_type": "code",
      "source": [
        "# Medidas de dispersion\n",
        "# Calcular las estadisticas desprictivas para las medidas de dispersión\n",
        "varianza = df_numerico.var()\n",
        "desviacion_estandar = df_numerico.std()\n",
        "rango = df_numerico.max() - df_numerico.min()\n",
        "iqr = df_numerico.quantile(0.75) - df_numerico.quantile(0.25)\n",
        "\n",
        "# Hacer un dataframe para las medidas de dispersion\n",
        "tabla_dispersion = pd.DataFrame({\n",
        "    'Variable': df_numerico.columns,\n",
        "    'Varianza': varianza,\n",
        "    'Desviación Estándar': desviacion_estandar,\n",
        "    'Rango': rango,\n",
        "    'IQR': iqr\n",
        "})\n",
        "\n",
        "print(tabla_dispersion)\n"
      ],
      "metadata": {
        "colab": {
          "base_uri": "https://localhost:8080/",
          "height": 0
        },
        "collapsed": true,
        "id": "1xRS9OZ1q1x5",
        "outputId": "fa629a0f-2408-457d-cb71-c45a244dedf2"
      },
      "execution_count": 5,
      "outputs": [
        {
          "output_type": "stream",
          "name": "stdout",
          "text": [
            "            Variable      Varianza  Desviación Estándar     Rango        IQR\n",
            "income        income  1.242159e+03            35.244273    176.28    36.4635\n",
            "balance      balance  2.113782e+05           459.758877   1999.00   794.2500\n",
            "limit          limit  5.327782e+06          2308.198848  13058.00  2784.7500\n",
            "rating        rating  2.393956e+04           154.724143    889.00   190.0000\n",
            "cards          cards  1.880395e+00             1.371275      8.00     2.0000\n",
            "age              age  2.975558e+02            17.249807     75.00    28.2500\n",
            "education  education  9.766917e+00             3.125207     15.00     5.0000\n"
          ]
        }
      ]
    },
    {
      "cell_type": "code",
      "source": [
        "# Medidas de posición\n",
        "# Cuartiles\n",
        "q1 = df_numerico.quantile(0.25)\n",
        "q2 = df_numerico.quantile(0.50)  # Esto es igual a la mediana\n",
        "q3 = df_numerico.quantile(0.75)\n",
        "\n",
        "# Deciles\n",
        "deciles = {f'Decil_{i}': df_numerico.quantile(i / 10) for i in range(1, 10)}\n",
        "\n",
        "# Percentiles (calculando específicamente el 10%, 20%, ..., 90%)\n",
        "percentiles = {f'Percentil_{i}': df_numerico.quantile(i / 100) for i in range(10, 100, 10)}\n",
        "\n",
        "# Crear un DataFrame para cuartiles, deciles y percentiles\n",
        "tabla_posicion = pd.DataFrame({\n",
        "    'Variable': df_numerico.columns,\n",
        "    'Cuartil_1': q1,\n",
        "    'Cuartil_2 (Mediana)': q2,\n",
        "    'Cuartil_3': q3,\n",
        "})\n",
        "\n",
        "# Añadir deciles y percentiles al DataFrame\n",
        "for nombre, valor in deciles.items():\n",
        "    tabla_posicion[nombre] = valor\n",
        "\n",
        "for nombre, valor in percentiles.items():\n",
        "    tabla_posicion[nombre] = valor\n",
        "\n",
        "print(tabla_posicion)\n"
      ],
      "metadata": {
        "colab": {
          "base_uri": "https://localhost:8080/",
          "height": 0
        },
        "collapsed": true,
        "id": "ZX9akXoKrEmo",
        "outputId": "c3536668-aa76-4e60-bd79-5806d0251af1"
      },
      "execution_count": 6,
      "outputs": [
        {
          "output_type": "stream",
          "name": "stdout",
          "text": [
            "            Variable   Cuartil_1  Cuartil_2 (Mediana)   Cuartil_3    Decil_1  \\\n",
            "income        income    21.00725              33.1155    57.47075    14.5834   \n",
            "balance      balance    68.75000             459.5000   863.00000     0.0000   \n",
            "limit          limit  3088.00000            4622.5000  5872.75000  1918.6000   \n",
            "rating        rating   247.25000             344.0000   437.25000   167.0000   \n",
            "cards          cards     2.00000               3.0000     4.00000     1.0000   \n",
            "age              age    41.75000              56.0000    70.00000    32.0000   \n",
            "education  education    11.00000              14.0000    16.00000     9.0000   \n",
            "\n",
            "             Decil_2    Decil_3    Decil_4    Decil_5    Decil_6  ...  \\\n",
            "income       19.2088    23.7567    27.8126    33.1155    40.0754  ...   \n",
            "balance       0.0000   142.9000   300.4000   459.5000   606.4000  ...   \n",
            "limit      2745.0000  3343.8000  3916.0000  4622.5000  5108.2000  ...   \n",
            "rating      216.6000   263.7000   299.0000   344.0000   377.0000  ...   \n",
            "cards         2.0000     2.0000     2.0000     3.0000     3.0000  ...   \n",
            "age          38.8000    44.0000    49.0000    56.0000    62.0000  ...   \n",
            "education    11.0000    12.0000    13.0000    14.0000    15.0000  ...   \n",
            "\n",
            "             Decil_9  Percentil_10  Percentil_20  Percentil_30  Percentil_40  \\\n",
            "income       92.4513       14.5834       19.2088       23.7567       27.8126   \n",
            "balance    1151.4000        0.0000        0.0000      142.9000      300.4000   \n",
            "limit      7659.8000     1918.6000     2745.0000     3343.8000     3916.0000   \n",
            "rating      549.5000      167.0000      216.6000      263.7000      299.0000   \n",
            "cards         5.0000        1.0000        2.0000        2.0000        2.0000   \n",
            "age          79.1000       32.0000       38.8000       44.0000       49.0000   \n",
            "education    17.0000        9.0000       11.0000       12.0000       13.0000   \n",
            "\n",
            "           Percentil_50  Percentil_60  Percentil_70  Percentil_80  \\\n",
            "income          33.1155       40.0754       51.9641       63.8334   \n",
            "balance        459.5000      606.4000      789.3000      947.0000   \n",
            "limit         4622.5000     5108.2000     5521.9000     6400.8000   \n",
            "rating         344.0000      377.0000      410.0000      466.4000   \n",
            "cards            3.0000        3.0000        4.0000        4.0000   \n",
            "age             56.0000       62.0000       67.0000       72.0000   \n",
            "education       14.0000       15.0000       15.0000       16.0000   \n",
            "\n",
            "           Percentil_90  \n",
            "income          92.4513  \n",
            "balance       1151.4000  \n",
            "limit         7659.8000  \n",
            "rating         549.5000  \n",
            "cards            5.0000  \n",
            "age             79.1000  \n",
            "education       17.0000  \n",
            "\n",
            "[7 rows x 22 columns]\n"
          ]
        }
      ]
    },
    {
      "cell_type": "code",
      "source": [
        "# Medidas de forma\n",
        "# Asimetría\n",
        "asimetria = df_numerico.skew()\n",
        "\n",
        "# Curtosis\n",
        "curtosis = df_numerico.kurt()\n",
        "\n",
        "# Crear un DataFrame para las medidas de forma\n",
        "tabla_forma = pd.DataFrame({\n",
        "    'Variable': df_numerico.columns,\n",
        "    'Asimetría': asimetria,\n",
        "    'Curtosis': curtosis\n",
        "})\n",
        "\n",
        "print(tabla_forma)\n"
      ],
      "metadata": {
        "colab": {
          "base_uri": "https://localhost:8080/",
          "height": 0
        },
        "id": "d4s2CZblsLCZ",
        "outputId": "2098d39b-c5aa-47f3-c3ca-f57266ce3f25",
        "collapsed": true
      },
      "execution_count": 7,
      "outputs": [
        {
          "output_type": "stream",
          "name": "stdout",
          "text": [
            "            Variable  Asimetría  Curtosis\n",
            "income        income   1.742117  2.947476\n",
            "balance      balance   0.584595 -0.527858\n",
            "limit          limit   0.837493  1.004247\n",
            "rating        rating   0.865394  1.060947\n",
            "cards          cards   0.791928  0.943953\n",
            "age              age   0.011496 -1.065580\n",
            "education  education  -0.329212 -0.578121\n"
          ]
        }
      ]
    },
    {
      "cell_type": "code",
      "source": [
        "# Tablas de frecuencia\n",
        "\n",
        "\n",
        "if 'categoria' in df_numerico.columns:\n",
        "    tabla_frecuencia = df_numerico['categoria'].value_counts().reset_index()\n",
        "    tabla_frecuencia.columns = ['Valor', 'Frecuencia']\n",
        "    tabla_frecuencia['Frecuencia Relativa'] = tabla_frecuencia['Frecuencia'] / len(df_numerico)\n",
        "\n",
        "    print(tabla_frecuencia)\n",
        "else:\n",
        "    print(\"No se encontró una columna categórica llamada 'categoria'.\")\n",
        "\n",
        "# Si quieres hacerlo para múltiples columnas categóricas o discretas:\n",
        "tablas_frecuencia = {}\n",
        "for col in df_numerico.columns:\n",
        "    if df_numerico[col].dtype == 'object' or df_numerico[col].nunique() < 10:  # Para variables categóricas o discretas\n",
        "        frecuencia = df_numerico[col].value_counts().reset_index()\n",
        "        frecuencia.columns = [f'{col}_Valor', 'Frecuencia']\n",
        "        frecuencia['Frecuencia Relativa'] = frecuencia['Frecuencia'] / len(df_numerico)\n",
        "        tablas_frecuencia[col] = frecuencia\n",
        "\n",
        "# Imprimir todas las tablas de frecuencia\n",
        "for col, tabla in tablas_frecuencia.items():\n",
        "    print(f\"\\nTabla de Frecuencia para {col}:\\n\", tabla)\n"
      ],
      "metadata": {
        "id": "Nhva--9YsWnA",
        "colab": {
          "base_uri": "https://localhost:8080/",
          "height": 0
        },
        "outputId": "bbe8205c-4c92-4f26-ed64-73101a81dce3"
      },
      "execution_count": 8,
      "outputs": [
        {
          "output_type": "stream",
          "name": "stdout",
          "text": [
            "No se encontró una columna categórica llamada 'categoria'.\n",
            "\n",
            "Tabla de Frecuencia para cards:\n",
            "    cards_Valor  Frecuencia  Frecuencia Relativa\n",
            "0            2         115               0.2875\n",
            "1            3         111               0.2775\n",
            "2            4          72               0.1800\n",
            "3            1          51               0.1275\n",
            "4            5          34               0.0850\n",
            "5            6          11               0.0275\n",
            "6            7           4               0.0100\n",
            "7            8           1               0.0025\n",
            "8            9           1               0.0025\n"
          ]
        }
      ]
    },
    {
      "cell_type": "code",
      "source": [
        "# Medidas de posición y tablas de frecuencia para las variables categóricas\n",
        "categorical_columns = ['gender', 'student', 'married', 'ethnicity', 'cards']\n",
        "\n",
        "# Diccionario para almacenar las tablas de frecuencia\n",
        "tablas_frecuencia = {}\n",
        "\n",
        "# Generar tablas de frecuencia para cada variable categórica\n",
        "for col in categorical_columns:\n",
        "    if col in df_numerico.columns:\n",
        "        tabla_frecuencia = df_numerico[col].value_counts().reset_index()\n",
        "        tabla_frecuencia.columns = [f'{col}_Valor', 'Frecuencia']\n",
        "        tabla_frecuencia['Frecuencia Relativa'] = tabla_frecuencia['Frecuencia'] / len(df_numerico)\n",
        "        tablas_frecuencia[col] = tabla_frecuencia\n",
        "\n",
        "# Imprimir todas las tablas de frecuencia\n",
        "for col, tabla in tablas_frecuencia.items():\n",
        "    print(f\"\\nTabla de Frecuencia para {col}:\\n\", tabla)\n"
      ],
      "metadata": {
        "colab": {
          "base_uri": "https://localhost:8080/",
          "height": 0
        },
        "id": "a_mskkqptc42",
        "outputId": "3d6ee4f8-1f62-4b54-8b5f-e0d55d1b0f2b"
      },
      "execution_count": 9,
      "outputs": [
        {
          "output_type": "stream",
          "name": "stdout",
          "text": [
            "\n",
            "Tabla de Frecuencia para cards:\n",
            "    cards_Valor  Frecuencia  Frecuencia Relativa\n",
            "0            2         115               0.2875\n",
            "1            3         111               0.2775\n",
            "2            4          72               0.1800\n",
            "3            1          51               0.1275\n",
            "4            5          34               0.0850\n",
            "5            6          11               0.0275\n",
            "6            7           4               0.0100\n",
            "7            8           1               0.0025\n",
            "8            9           1               0.0025\n"
          ]
        }
      ]
    },
    {
      "cell_type": "code",
      "source": [
        "import matplotlib.pyplot as plt\n",
        "\n",
        "# Bar plot para medidas de tendencia central\n",
        "tabla_descriptivas.set_index('Variable', inplace=True)\n",
        "tabla_descriptivas[['Media', 'Mediana', 'Moda']].plot(kind='bar', figsize=(10, 6))\n",
        "plt.title('Medidas de tendencia central')\n",
        "plt.ylabel('Values')\n",
        "plt.xlabel('Variables')\n",
        "plt.xticks(rotation=45)\n",
        "plt.legend(loc='best')\n",
        "plt.show()\n"
      ],
      "metadata": {
        "colab": {
          "base_uri": "https://localhost:8080/",
          "height": 609
        },
        "id": "xYS_W_zJvrKR",
        "outputId": "8ab64964-7bbd-4fd7-f225-36bbacf0c889"
      },
      "execution_count": 10,
      "outputs": [
        {
          "output_type": "display_data",
          "data": {
            "text/plain": [
              "<Figure size 1000x600 with 1 Axes>"
            ],
            "image/png": "[encoded data removed]"
          },
          "metadata": {}
        }
      ]
    },
    {
      "cell_type": "code",
      "source": [
        "# box plot medidas de sipersion\n",
        "tabla_dispersion.set_index('Variable', inplace=True)\n",
        "tabla_dispersion[['Varianza', 'Desviación Estándar', 'Rango', 'IQR']].plot(kind='bar', figsize=(10, 6))\n",
        "plt.title('Medidas de dispersion')\n",
        "plt.ylabel('Values')\n",
        "plt.xlabel('Variables')\n",
        "plt.xticks(rotation=45)\n",
        "plt.legend(loc='best')\n",
        "plt.show()\n"
      ],
      "metadata": {
        "colab": {
          "base_uri": "https://localhost:8080/",
          "height": 609
        },
        "id": "FGQqm1aHwRb8",
        "outputId": "28a4e269-1778-4e93-8cb2-98c636c969d8"
      },
      "execution_count": 11,
      "outputs": [
        {
          "output_type": "display_data",
          "data": {
            "text/plain": [
              "<Figure size 1000x600 with 1 Axes>"
            ],
            "image/png": "[encoded data removed]"
          },
          "metadata": {}
        }
      ]
    },
    {
      "cell_type": "code",
      "source": [
        "\n",
        "\n",
        "# Box plot para medidas de posicion\n",
        "plt.figure(figsize=(12, 6))\n",
        "sns.boxplot(data=df_numerico)\n",
        "plt.title('Medidas de Posición (Box Plot)')\n",
        "plt.ylabel('Values')\n",
        "plt.xlabel('Variables')\n",
        "plt.xticks(rotation=45)\n",
        "plt.show()\n"
      ],
      "metadata": {
        "colab": {
          "base_uri": "https://localhost:8080/",
          "height": 609
        },
        "id": "rZsOg36pwy5v",
        "outputId": "dcd7e063-61c0-4864-c3a7-de2fe4426b10"
      },
      "execution_count": 12,
      "outputs": [
        {
          "output_type": "display_data",
          "data": {
            "text/plain": [
              "<Figure size 1200x600 with 1 Axes>"
            ],
            "image/png": "[encoded data removed]"
          },
          "metadata": {}
        }
      ]
    },
    {
      "cell_type": "code",
      "source": [
        "# Box plot para medidas de forma\n",
        "plt.figure(figsize=(12, 6))\n",
        "sns.boxplot(data=df_numerico)\n",
        "plt.title('Medidas de Forma (Distribución)')\n",
        "plt.ylabel('Values')\n",
        "plt.xlabel('Variables')\n",
        "plt.xticks(rotation=45)\n",
        "plt.show()\n"
      ],
      "metadata": {
        "colab": {
          "base_uri": "https://localhost:8080/",
          "height": 609
        },
        "id": "jNYq2T8Nw3Bp",
        "outputId": "d48e098b-4d05-4a2a-d2b6-28b2a930f5a2"
      },
      "execution_count": 13,
      "outputs": [
        {
          "output_type": "display_data",
          "data": {
            "text/plain": [
              "<Figure size 1200x600 with 1 Axes>"
            ],
            "image/png": "[encoded data removed]"
          },
          "metadata": {}
        }
      ]
    },
    {
      "cell_type": "code",
      "source": [
        "# Calcular el correlation matrix\n",
        "correlation_matrix = df_numerico.corr()\n",
        "\n",
        "print(correlation_matrix)\n"
      ],
      "metadata": {
        "colab": {
          "base_uri": "https://localhost:8080/",
          "height": 0
        },
        "id": "3gmz1Y1qx5Fm",
        "outputId": "e495e39e-52ac-41c8-a34e-ae92f2f556e5"
      },
      "execution_count": 14,
      "outputs": [
        {
          "output_type": "stream",
          "name": "stdout",
          "text": [
            "             income   balance     limit    rating     cards       age  \\\n",
            "income     1.000000  0.463656  0.792088  0.791378 -0.018273  0.175338   \n",
            "balance    0.463656  1.000000  0.861697  0.863625  0.086456  0.001835   \n",
            "limit      0.792088  0.861697  1.000000  0.996880  0.010231  0.100888   \n",
            "rating     0.791378  0.863625  0.996880  1.000000  0.053239  0.103165   \n",
            "cards     -0.018273  0.086456  0.010231  0.053239  1.000000  0.042948   \n",
            "age        0.175338  0.001835  0.100888  0.103165  0.042948  1.000000   \n",
            "education -0.027692 -0.008062 -0.023549 -0.030136 -0.051084  0.003619   \n",
            "\n",
            "           education  \n",
            "income     -0.027692  \n",
            "balance    -0.008062  \n",
            "limit      -0.023549  \n",
            "rating     -0.030136  \n",
            "cards      -0.051084  \n",
            "age         0.003619  \n",
            "education   1.000000  \n"
          ]
        }
      ]
    },
    {
      "cell_type": "code",
      "source": [
        "plt.figure(figsize=(10, 8))\n",
        "\n",
        "# Hacer heatmap del correlation matrix\n",
        "sns.heatmap(correlation_matrix, annot=True, cmap='coolwarm', fmt=\".2f\", linewidths=0.5)\n",
        "\n",
        "plt.title('Heatmap de la matriz de correlación')\n",
        "plt.show()"
      ],
      "metadata": {
        "colab": {
          "base_uri": "https://localhost:8080/",
          "height": 699
        },
        "id": "xmSE9siXyDbQ",
        "outputId": "3cdada08-3ba0-4178-c2d7-60ea33e7eaba"
      },
      "execution_count": 15,
      "outputs": [
        {
          "output_type": "display_data",
          "data": {
            "text/plain": [
              "<Figure size 1000x800 with 2 Axes>"
            ],
            "image/png": "[encoded data removed]"
          },
          "metadata": {}
        }
      ]
    },
    {
      "cell_type": "markdown",
      "source": [
        "#### Modelo de regresion lineal"
      ],
      "metadata": {
        "id": "In2StIOpp6r-"
      }
    },
    {
      "cell_type": "code",
      "source": [
        "### Transforming categorical variables as a factor\n",
        "credit_df.gender = credit_df.gender.astype('category')\n",
        "credit_df.student = credit_df.student.astype('category')\n",
        "credit_df.married = credit_df.married.astype('category')\n",
        "credit_df.ethnicity = credit_df.ethnicity.astype('category')"
      ],
      "metadata": {
        "id": "gAfVwzyWo6GF"
      },
      "execution_count": 16,
      "outputs": []
    },
    {
      "cell_type": "code",
      "source": [
        "### Lets define a categorical variable / dependent variable for logistic regression\n",
        "credit_df['Active'] = np.where(credit_df['balance']>0, 'Yes', 'No')\n",
        "credit_df.Active.describe()"
      ],
      "metadata": {
        "id": "8giiSGUWo9Od",
        "colab": {
          "base_uri": "https://localhost:8080/",
          "height": 210
        },
        "outputId": "07b23698-03b8-405c-d34b-ab64c93cd85f",
        "collapsed": true
      },
      "execution_count": 17,
      "outputs": [
        {
          "output_type": "execute_result",
          "data": {
            "text/plain": [
              "count     400\n",
              "unique      2\n",
              "top       Yes\n",
              "freq      310\n",
              "Name: Active, dtype: object"
            ],
            "text/html": [
              "<div>\n",
              "<style scoped>\n",
              "    .dataframe tbody tr th:only-of-type {\n",
              "        vertical-align: middle;\n",
              "    }\n",
              "\n",
              "    .dataframe tbody tr th {\n",
              "        vertical-align: top;\n",
              "    }\n",
              "\n",
              "    .dataframe thead th {\n",
              "        text-align: right;\n",
              "    }\n",
              "</style>\n",
              "<table border=\"1\" class=\"dataframe\">\n",
              "  <thead>\n",
              "    <tr style=\"text-align: right;\">\n",
              "      <th></th>\n",
              "      <th>Active</th>\n",
              "    </tr>\n",
              "  </thead>\n",
              "  <tbody>\n",
              "    <tr>\n",
              "      <th>count</th>\n",
              "      <td>400</td>\n",
              "    </tr>\n",
              "    <tr>\n",
              "      <th>unique</th>\n",
              "      <td>2</td>\n",
              "    </tr>\n",
              "    <tr>\n",
              "      <th>top</th>\n",
              "      <td>Yes</td>\n",
              "    </tr>\n",
              "    <tr>\n",
              "      <th>freq</th>\n",
              "      <td>310</td>\n",
              "    </tr>\n",
              "  </tbody>\n",
              "</table>\n",
              "</div><br><label><b>dtype:</b> object</label>"
            ]
          },
          "metadata": {},
          "execution_count": 17
        }
      ]
    },
    {
      "cell_type": "code",
      "source": [
        "### MODELO 1\n",
        "### MLRM\n",
        "independent_vars = 'income + rating + age + student'\n",
        "\n",
        "lm_mod = smf.ols(f'balance ~ {independent_vars}', data=credit_df).fit()\n",
        "\n",
        "print(lm_mod.summary())"
      ],
      "metadata": {
        "id": "FIokg61-qWmN",
        "colab": {
          "base_uri": "https://localhost:8080/",
          "height": 0
        },
        "outputId": "76ff1eea-3f4c-45f5-df3d-972d6553f6da"
      },
      "execution_count": 18,
      "outputs": [
        {
          "output_type": "stream",
          "name": "stdout",
          "text": [
            "                            OLS Regression Results                            \n",
            "==============================================================================\n",
            "Dep. Variable:                balance   R-squared:                       0.950\n",
            "Model:                            OLS   Adj. R-squared:                  0.950\n",
            "Method:                 Least Squares   F-statistic:                     1892.\n",
            "Date:                Fri, 30 Aug 2024   Prob (F-statistic):          4.17e-256\n",
            "Time:                        04:33:57   Log-Likelihood:                -2418.6\n",
            "No. Observations:                 400   AIC:                             4847.\n",
            "Df Residuals:                     395   BIC:                             4867.\n",
            "Df Model:                           4                                         \n",
            "Covariance Type:            nonrobust                                         \n",
            "==================================================================================\n",
            "                     coef    std err          t      P>|t|      [0.025      0.975]\n",
            "----------------------------------------------------------------------------------\n",
            "Intercept       -547.3047     21.461    -25.503      0.000    -589.496    -505.113\n",
            "student[T.Yes]   417.5056     17.172     24.314      0.000     383.746     451.265\n",
            "income            -7.7977      0.242    -32.198      0.000      -8.274      -7.322\n",
            "rating             3.9807      0.055     72.927      0.000       3.873       4.088\n",
            "age               -0.6242      0.304     -2.053      0.041      -1.222      -0.026\n",
            "==============================================================================\n",
            "Omnibus:                       15.838   Durbin-Watson:                   1.953\n",
            "Prob(Omnibus):                  0.000   Jarque-Bera (JB):               17.000\n",
            "Skew:                           0.494   Prob(JB):                     0.000203\n",
            "Kurtosis:                       2.793   Cond. No.                     1.66e+03\n",
            "==============================================================================\n",
            "\n",
            "Notes:\n",
            "[1] Standard Errors assume that the covariance matrix of the errors is correctly specified.\n",
            "[2] The condition number is large, 1.66e+03. This might indicate that there are\n",
            "strong multicollinearity or other numerical problems.\n"
          ]
        }
      ]
    },
    {
      "cell_type": "code",
      "source": [],
      "metadata": {
        "id": "u4ybVO8Pxp30"
      },
      "execution_count": 18,
      "outputs": []
    },
    {
      "cell_type": "markdown",
      "source": [
        "Log-Linear Model"
      ],
      "metadata": {
        "id": "NP3nWnTD0JCE"
      }
    },
    {
      "cell_type": "code",
      "source": [
        "#Modelo 2\n",
        "# Define the independent variables\n",
        "independent_vars = 'np.log(income) + np.log(limit) + np.log(rating)+ cards + age + education + gender + student + married + ethnicity'\n",
        "credit_df['log_balance'] = np.log(credit_df['balance'] + 1)"
      ],
      "metadata": {
        "id": "KJ9eX00bxzdI"
      },
      "execution_count": 19,
      "outputs": []
    },
    {
      "cell_type": "code",
      "source": [
        "log_lm_mod = smf.ols(f'log_balance ~ np.log(income) + np.log(limit) + np.log(rating) + student', data=credit_df).fit()\n",
        "\n",
        "# Output the summary of the model\n",
        "print(log_lm_mod.summary())\n",
        "\n",
        "log_OLS_pred = np.exp(log_lm_mod.predict(credit_df)) - 1\n",
        "\n",
        "# Print a few of the predicted values\n",
        "print(log_OLS_pred.head())"
      ],
      "metadata": {
        "colab": {
          "base_uri": "https://localhost:8080/",
          "height": 0
        },
        "id": "QGjgUQ0k0M9T",
        "outputId": "05c88594-c3d8-437f-fe44-8cc7c48d6198",
        "collapsed": true
      },
      "execution_count": 20,
      "outputs": [
        {
          "output_type": "stream",
          "name": "stdout",
          "text": [
            "                            OLS Regression Results                            \n",
            "==============================================================================\n",
            "Dep. Variable:            log_balance   R-squared:                       0.830\n",
            "Model:                            OLS   Adj. R-squared:                  0.828\n",
            "Method:                 Least Squares   F-statistic:                     480.6\n",
            "Date:                Fri, 30 Aug 2024   Prob (F-statistic):          2.84e-150\n",
            "Time:                        04:33:57   Log-Likelihood:                -613.86\n",
            "No. Observations:                 400   AIC:                             1238.\n",
            "Df Residuals:                     395   BIC:                             1258.\n",
            "Df Model:                           4                                         \n",
            "Covariance Type:            nonrobust                                         \n",
            "==================================================================================\n",
            "                     coef    std err          t      P>|t|      [0.025      0.975]\n",
            "----------------------------------------------------------------------------------\n",
            "Intercept        -30.5864      1.486    -20.587      0.000     -33.507     -27.665\n",
            "student[T.Yes]     1.7700      0.188      9.392      0.000       1.400       2.141\n",
            "np.log(income)    -1.7222      0.110    -15.687      0.000      -1.938      -1.506\n",
            "np.log(limit)      1.5863      0.830      1.910      0.057      -0.046       3.219\n",
            "np.log(rating)     4.8744      0.998      4.885      0.000       2.913       6.836\n",
            "==============================================================================\n",
            "Omnibus:                       47.037   Durbin-Watson:                   1.986\n",
            "Prob(Omnibus):                  0.000   Jarque-Bera (JB):               60.669\n",
            "Skew:                          -0.885   Prob(JB):                     6.70e-14\n",
            "Kurtosis:                       3.712   Cond. No.                         359.\n",
            "==============================================================================\n",
            "\n",
            "Notes:\n",
            "[1] Standard Errors assume that the covariance matrix of the errors is correctly specified.\n",
            "0     193.900379\n",
            "1    1389.272417\n",
            "2     361.606860\n",
            "3    1240.759925\n",
            "4      99.742155\n",
            "dtype: float64\n"
          ]
        }
      ]
    },
    {
      "cell_type": "code",
      "source": [
        "# MODELO 3\n",
        "### Polynomial Regression Model\n",
        "# Definir independent variables(features) y dependent variable (target)\n",
        "X = credit_df[['income', 'rating','cards','age','education']]\n",
        "y = credit_df['balance']\n",
        "\n",
        "# Create polynomial features\n",
        "poly = PolynomialFeatures(degree=2, include_bias=False)\n",
        "X_poly = poly.fit_transform(X)\n",
        "\n",
        "# Convert the polynomial features to a DataFrame for better readability\n",
        "X_poly_df = pd.DataFrame(X_poly, columns=poly.get_feature_names_out(X.columns))\n"
      ],
      "metadata": {
        "id": "JCmWAULv8TFU"
      },
      "execution_count": 21,
      "outputs": []
    },
    {
      "cell_type": "code",
      "source": [
        "X_poly_with_constant = sm.add_constant(X_poly_df)\n"
      ],
      "metadata": {
        "id": "2zy5yamiBSeq"
      },
      "execution_count": 22,
      "outputs": []
    },
    {
      "cell_type": "code",
      "source": [
        "# Fit the polynomial regression model\n",
        "model = LinearRegression()\n",
        "model.fit(X_poly, y)\n",
        "\n",
        "# Make predictions\n",
        "y_pred = model.predict(X_poly)\n",
        "\n",
        "# Calculate performance metrics\n",
        "mse = mean_squared_error(y, y_pred)\n",
        "r2 = r2_score(y, y_pred)\n",
        "\n",
        "# Print the model performance\n",
        "print(f\"Mean Squared Error (MSE): {mse}\")\n",
        "print(f\"R-squared (R2): {r2}\")\n"
      ],
      "metadata": {
        "colab": {
          "base_uri": "https://localhost:8080/",
          "height": 0
        },
        "id": "eMVoupOK-neZ",
        "outputId": "f97f186e-c5de-49b1-9351-38ef1d2eddb8"
      },
      "execution_count": 23,
      "outputs": [
        {
          "output_type": "stream",
          "name": "stdout",
          "text": [
            "Mean Squared Error (MSE): 21255.352367011958\n",
            "R-squared (R2): 0.8991919631611958\n"
          ]
        }
      ]
    },
    {
      "cell_type": "code",
      "source": [
        "# coeficientes del modelo de regresion polinomial\n",
        "print(\"Coefficients:\")\n",
        "print(pd.Series(model.coef_, index=poly.get_feature_names_out(X.columns)))\n",
        "\n",
        "# Intercepto\n",
        "print(f\"Intercept: {model.intercept_}\")\n"
      ],
      "metadata": {
        "colab": {
          "base_uri": "https://localhost:8080/",
          "height": 0
        },
        "id": "l9fOfVpaAUQU",
        "outputId": "6699af62-293a-4984-852d-2ede44f4643a"
      },
      "execution_count": 24,
      "outputs": [
        {
          "output_type": "stream",
          "name": "stdout",
          "text": [
            "Coefficients:\n",
            "income              -1.789090\n",
            "rating               1.146446\n",
            "cards               43.415071\n",
            "age                  7.869924\n",
            "education           15.291237\n",
            "income^2             0.056042\n",
            "income rating       -0.039022\n",
            "income cards         0.043241\n",
            "income age           0.049129\n",
            "income education    -0.003547\n",
            "rating^2             0.006901\n",
            "rating cards        -0.009012\n",
            "rating age          -0.010096\n",
            "rating education     0.018574\n",
            "cards^2              1.644660\n",
            "cards age           -0.421736\n",
            "cards education     -2.456882\n",
            "age^2               -0.061048\n",
            "age education        0.033528\n",
            "education^2         -0.518484\n",
            "dtype: float64\n",
            "Intercept: -580.5388187644452\n"
          ]
        }
      ]
    },
    {
      "cell_type": "code",
      "source": [
        "# Fit the polynomial regression model\n",
        "model = sm.OLS(y, X_poly_with_constant).fit()\n",
        "\n",
        "# Print the regression results\n",
        "print(model.summary())\n"
      ],
      "metadata": {
        "colab": {
          "base_uri": "https://localhost:8080/",
          "height": 0
        },
        "id": "ErfIFyMNAn3D",
        "outputId": "9d55cdf2-5f40-4bda-87b7-e808d34bed84"
      },
      "execution_count": 25,
      "outputs": [
        {
          "output_type": "stream",
          "name": "stdout",
          "text": [
            "                            OLS Regression Results                            \n",
            "==============================================================================\n",
            "Dep. Variable:                balance   R-squared:                       0.899\n",
            "Model:                            OLS   Adj. R-squared:                  0.894\n",
            "Method:                 Least Squares   F-statistic:                     169.0\n",
            "Date:                Fri, 30 Aug 2024   Prob (F-statistic):          6.16e-175\n",
            "Time:                        04:33:57   Log-Likelihood:                -2560.4\n",
            "No. Observations:                 400   AIC:                             5163.\n",
            "Df Residuals:                     379   BIC:                             5247.\n",
            "Df Model:                          20                                         \n",
            "Covariance Type:            nonrobust                                         \n",
            "====================================================================================\n",
            "                       coef    std err          t      P>|t|      [0.025      0.975]\n",
            "------------------------------------------------------------------------------------\n",
            "const             -580.5388    225.173     -2.578      0.010   -1023.284    -137.794\n",
            "income              -1.7891      2.756     -0.649      0.517      -7.208       3.629\n",
            "rating               1.1464      0.632      1.814      0.070      -0.096       2.389\n",
            "cards               43.4151     39.384      1.102      0.271     -34.024     120.854\n",
            "age                  7.8699      3.835      2.052      0.041       0.329      15.410\n",
            "education           15.2912     21.273      0.719      0.473     -26.536      57.119\n",
            "income^2             0.0560      0.015      3.787      0.000       0.027       0.085\n",
            "income rating       -0.0390      0.007     -5.622      0.000      -0.053      -0.025\n",
            "income cards         0.0432      0.293      0.148      0.883      -0.533       0.619\n",
            "income age           0.0491      0.022      2.218      0.027       0.006       0.093\n",
            "income education    -0.0035      0.117     -0.030      0.976      -0.234       0.227\n",
            "rating^2             0.0069      0.001      7.328      0.000       0.005       0.009\n",
            "rating cards        -0.0090      0.068     -0.133      0.894      -0.142       0.124\n",
            "rating age          -0.0101      0.005     -2.124      0.034      -0.019      -0.001\n",
            "rating education     0.0186      0.027      0.694      0.488      -0.034       0.071\n",
            "cards^2              1.6447      2.733      0.602      0.548      -3.730       7.019\n",
            "cards age           -0.4217      0.343     -1.231      0.219      -1.095       0.252\n",
            "cards education     -2.4569      1.721     -1.427      0.154      -5.841       0.927\n",
            "age^2               -0.0610      0.029     -2.074      0.039      -0.119      -0.003\n",
            "age education        0.0335      0.147      0.229      0.819      -0.255       0.322\n",
            "education^2         -0.5185      0.681     -0.761      0.447      -1.858       0.821\n",
            "==============================================================================\n",
            "Omnibus:                      147.185   Durbin-Watson:                   1.778\n",
            "Prob(Omnibus):                  0.000   Jarque-Bera (JB):              406.915\n",
            "Skew:                           1.789   Prob(JB):                     4.36e-89\n",
            "Kurtosis:                       6.407   Cond. No.                     6.22e+06\n",
            "==============================================================================\n",
            "\n",
            "Notes:\n",
            "[1] Standard Errors assume that the covariance matrix of the errors is correctly specified.\n",
            "[2] The condition number is large, 6.22e+06. This might indicate that there are\n",
            "strong multicollinearity or other numerical problems.\n"
          ]
        }
      ]
    },
    {
      "cell_type": "markdown",
      "source": [],
      "metadata": {
        "id": "BnB1eKFZ8TcI"
      }
    },
    {
      "cell_type": "code",
      "source": [
        "# MODELO 1 VIF\n",
        "# Multicollinearity\n",
        "from statsmodels.stats.outliers_influence import variance_inflation_factor\n",
        "import pandas as pd\n",
        "\n",
        "# Create a DataFrame with only the independent variables\n",
        "X = credit_df[['income', 'limit', 'rating', 'cards', 'age']]\n",
        "\n",
        "# Add a constant to the model (intercept term)\n",
        "X = sm.add_constant(X)\n",
        "\n",
        "# Calculate VIF for each independent variable\n",
        "vif_data = pd.DataFrame()\n",
        "vif_data['Variable'] = X.columns\n",
        "vif_data['VIF'] = [variance_inflation_factor(X.values, i) for i in range(X.shape[1])]\n",
        "\n",
        "print(vif_data)\n"
      ],
      "metadata": {
        "colab": {
          "base_uri": "https://localhost:8080/",
          "height": 0
        },
        "id": "bD75N0Gz03B5",
        "outputId": "4a9d6e36-77a9-427e-8175-f3c8b6be14e1"
      },
      "execution_count": 26,
      "outputs": [
        {
          "output_type": "stream",
          "name": "stdout",
          "text": [
            "  Variable         VIF\n",
            "0    const   25.227979\n",
            "1   income    2.772743\n",
            "2    limit  227.842810\n",
            "3   rating  229.587822\n",
            "4    cards    1.433859\n",
            "5      age    1.038413\n"
          ]
        }
      ]
    },
    {
      "cell_type": "code",
      "source": [
        "# VIF MODELO 2\n",
        "# Apply the log transformations\n",
        "credit_df['log_income'] = np.log(credit_df['income'])\n",
        "credit_df['log_limit'] = np.log(credit_df['limit'])\n",
        "credit_df['log_rating'] = np.log(credit_df['rating'])\n",
        "\n",
        "# Create a DataFrame with the independent variables\n",
        "X = credit_df[['log_income', 'log_limit', 'log_rating', 'cards', 'age', 'education' ]]\n",
        "\n",
        "# Convert categorical variables to dummy variables\n",
        "X = pd.get_dummies(X, drop_first=True)\n",
        "\n",
        "# Add a constant to the model (for the intercept)\n",
        "X = sm.add_constant(X)\n",
        "\n",
        "# Calculate VIF for each feature\n",
        "vif_data = pd.DataFrame()\n",
        "vif_data['Variable'] = X.columns\n",
        "vif_data['VIF'] = [variance_inflation_factor(X.values, i) for i in range(X.shape[1])]\n",
        "\n",
        "print(\"VIF for each feature:\")\n",
        "print(vif_data)\n"
      ],
      "metadata": {
        "colab": {
          "base_uri": "https://localhost:8080/",
          "height": 0
        },
        "id": "h1CJ3Ust4tOq",
        "outputId": "57f691dc-2c9c-4d5d-f2e1-8bcc46b8c9f7"
      },
      "execution_count": 27,
      "outputs": [
        {
          "output_type": "stream",
          "name": "stdout",
          "text": [
            "VIF for each feature:\n",
            "     Variable         VIF\n",
            "0       const  834.621683\n",
            "1  log_income    1.899601\n",
            "2   log_limit   73.991318\n",
            "3  log_rating   77.150761\n",
            "4       cards    1.219892\n",
            "5         age    1.035951\n",
            "6   education    1.007250\n"
          ]
        }
      ]
    },
    {
      "cell_type": "code",
      "source": [
        "# VIF MODELO 3\n",
        "vif_data = pd.DataFrame()\n",
        "vif_data['Feature'] = X_poly_df.columns\n",
        "vif_data['VIF'] = [variance_inflation_factor(X_poly_df.values, i) for i in range(X_poly_df.shape[1])]\n",
        "\n",
        "print(\"VIF for each feature:\")\n",
        "print(vif_data)"
      ],
      "metadata": {
        "colab": {
          "base_uri": "https://localhost:8080/",
          "height": 0
        },
        "id": "DcuwM2FkEdq_",
        "outputId": "26f6bcd8-1869-466f-db60-293845c7e5ac"
      },
      "execution_count": 28,
      "outputs": [
        {
          "output_type": "stream",
          "name": "stdout",
          "text": [
            "VIF for each feature:\n",
            "             Feature         VIF\n",
            "0             income  382.420657\n",
            "1             rating  803.527232\n",
            "2              cards  246.961572\n",
            "3                age  589.759257\n",
            "4          education  570.296734\n",
            "5           income^2  160.487848\n",
            "6      income rating  939.202614\n",
            "7       income cards   51.280118\n",
            "8         income age  109.353639\n",
            "9   income education  143.754730\n",
            "10          rating^2  618.641868\n",
            "11      rating cards  129.840731\n",
            "12        rating age  206.790927\n",
            "13  rating education  314.897395\n",
            "14           cards^2   27.853611\n",
            "15         cards age   72.557568\n",
            "16   cards education   97.427257\n",
            "17             age^2  219.389251\n",
            "18     age education  192.060632\n",
            "19       education^2  260.481278\n"
          ]
        }
      ]
    },
    {
      "cell_type": "code",
      "source": [
        "# MODELO 1\n",
        "# Heterocedasticity - Log Regression Model\n",
        "# Breusch - Pagan Lagrange Multiplier Test\n",
        "# if the p-value < 5% then we might have the presence of heterocedascity\n",
        "from statsmodels.compat import lzip\n",
        "import statsmodels.api as sm\n",
        "name_log = ['Lagrange multiplier statistic', 'p-value', 'f-value', 'f p-value']\n",
        "test_log = sm.stats.het_breuschpagan(lm_mod.resid, lm_mod.model.exog)\n",
        "lzip(name_log, test_log)"
      ],
      "metadata": {
        "id": "8q--9OsCC4BP",
        "colab": {
          "base_uri": "https://localhost:8080/",
          "height": 0
        },
        "outputId": "7c713934-43d0-45d7-9bb2-65ea1f4ea884"
      },
      "execution_count": 29,
      "outputs": [
        {
          "output_type": "execute_result",
          "data": {
            "text/plain": [
              "[('Lagrange multiplier statistic', 85.29969639170352),\n",
              " ('p-value', 1.3103551267121803e-17),\n",
              " ('f-value', 26.766243699482263),\n",
              " ('f p-value', 1.154747298618737e-19)]"
            ]
          },
          "metadata": {},
          "execution_count": 29
        }
      ]
    },
    {
      "cell_type": "code",
      "source": [
        "# MODELO 2\n",
        "# Heterocedasticity - Log Regression Model\n",
        "# Breusch - Pagan Lagrange Multiplier Test\n",
        "# if the p-value < 5% then we might have the presence of heterocedascity\n",
        "from statsmodels.compat import lzip\n",
        "import statsmodels.api as sm\n",
        "name_log = ['Lagrange multiplier statistic', 'p-value', 'f-value', 'f p-value']\n",
        "test_log = sm.stats.het_breuschpagan(log_lm_mod.resid, log_lm_mod.model.exog)\n",
        "lzip(name_log, test_log)"
      ],
      "metadata": {
        "colab": {
          "base_uri": "https://localhost:8080/",
          "height": 0
        },
        "id": "_LT-yYn_5P2f",
        "outputId": "5f3f7a8e-b914-4cea-f9f7-ed62e8def4b3"
      },
      "execution_count": 30,
      "outputs": [
        {
          "output_type": "execute_result",
          "data": {
            "text/plain": [
              "[('Lagrange multiplier statistic', 56.7347703454776),\n",
              " ('p-value', 1.4062626196343251e-11),\n",
              " ('f-value', 16.32136927254351),\n",
              " ('f p-value', 2.2010486947860846e-12)]"
            ]
          },
          "metadata": {},
          "execution_count": 30
        }
      ]
    },
    {
      "cell_type": "code",
      "source": [
        "# MODELO 3\n",
        "# BREUSCH PAGAN TEST\n",
        "name_bp = ['Lagrange multiplier statistic', 'p-value', 'f-value', 'f p-value']\n",
        "test_bp = sm.stats.het_breuschpagan(model.resid, model.model.exog)\n",
        "\n",
        "print(\"Breusch-Pagan test results:\")\n",
        "print(lzip(name_bp, test_bp))"
      ],
      "metadata": {
        "colab": {
          "base_uri": "https://localhost:8080/",
          "height": 0
        },
        "id": "Lx9kNHz3ElRt",
        "outputId": "925736ee-7bf5-44a5-ba28-262ffd236c59"
      },
      "execution_count": 31,
      "outputs": [
        {
          "output_type": "stream",
          "name": "stdout",
          "text": [
            "Breusch-Pagan test results:\n",
            "[('Lagrange multiplier statistic', 30.870862494870764), ('p-value', 0.05691852805922333), ('f-value', 1.5848189287676375), ('f p-value', 0.053175519155752894)]\n"
          ]
        }
      ]
    },
    {
      "cell_type": "code",
      "source": [
        "### MODELO 1\n",
        "name = ['Jarque-Bera', 'Chi^2 two-tail prob.', 'Skew', 'Kurtosis']\n",
        "test = sm.stats.jarque_bera(lm_mod.resid)\n",
        "lzip(name, test)"
      ],
      "metadata": {
        "colab": {
          "base_uri": "https://localhost:8080/",
          "height": 0
        },
        "id": "bM-1NE3KCfn_",
        "outputId": "2c2c411f-0f77-43fd-c76c-c4e2ad772490"
      },
      "execution_count": 32,
      "outputs": [
        {
          "output_type": "execute_result",
          "data": {
            "text/plain": [
              "[('Jarque-Bera', 17.00008438757724),\n",
              " ('Chi^2 two-tail prob.', 0.00020345978409040788),\n",
              " ('Skew', 0.49425895069331227),\n",
              " ('Kurtosis', 2.7930279683319075)]"
            ]
          },
          "metadata": {},
          "execution_count": 32
        }
      ]
    },
    {
      "cell_type": "code",
      "source": [
        "### MODELO 2\n",
        "name = ['Jarque-Bera', 'Chi^2 two-tail prob.', 'Skew', 'Kurtosis']\n",
        "test = sm.stats.jarque_bera(log_lm_mod.resid)\n",
        "lzip(name, test)"
      ],
      "metadata": {
        "colab": {
          "base_uri": "https://localhost:8080/",
          "height": 0
        },
        "id": "j4JAFL-e5q90",
        "outputId": "4bda1130-eb7c-4d64-f79a-4e2b21c7e220"
      },
      "execution_count": 33,
      "outputs": [
        {
          "output_type": "execute_result",
          "data": {
            "text/plain": [
              "[('Jarque-Bera', 60.66927636367773),\n",
              " ('Chi^2 two-tail prob.', 6.696286507148787e-14),\n",
              " ('Skew', -0.8849460114954338),\n",
              " ('Kurtosis', 3.7124877604380004)]"
            ]
          },
          "metadata": {},
          "execution_count": 33
        }
      ]
    },
    {
      "cell_type": "code",
      "source": [
        "### MODELO 3\n",
        "name = ['Jarque-Bera', 'Chi^2 two-tail prob.', 'Skew', 'Kurtosis']\n",
        "test = sm.stats.jarque_bera(model.resid)\n",
        "lzip(name, test)"
      ],
      "metadata": {
        "colab": {
          "base_uri": "https://localhost:8080/",
          "height": 0
        },
        "id": "pi7nxV5pE6AX",
        "outputId": "c1cad207-0776-4afa-af65-a02fe6d112dd"
      },
      "execution_count": 34,
      "outputs": [
        {
          "output_type": "execute_result",
          "data": {
            "text/plain": [
              "[('Jarque-Bera', 406.91538028219173),\n",
              " ('Chi^2 two-tail prob.', 4.359612317374761e-89),\n",
              " ('Skew', 1.789471374197733),\n",
              " ('Kurtosis', 6.40677143651273)]"
            ]
          },
          "metadata": {},
          "execution_count": 34
        }
      ]
    },
    {
      "cell_type": "code",
      "source": [
        "### MODELO 1\n",
        "# RMSE\n",
        "# Make predictions using the fitted model\n",
        "\n",
        "# Apply the log transformations directly to the DataFrame\n",
        "credit_df['log_income'] = np.log(credit_df['income'])\n",
        "credit_df['log_limit'] = np.log(credit_df['limit'])\n",
        "credit_df['log_rating'] = np.log(credit_df['rating'])\n",
        "\n",
        "# Re-define the independent variables based on the transformed columns\n",
        "independent_vars = 'log_income + log_limit + log_rating + cards + age + student'\n",
        "\n",
        "lm_mod = smf.ols(f'balance ~ {independent_vars}', data=credit_df).fit()\n",
        "\n",
        "y_pred = lm_mod.predict(credit_df[['log_income', 'log_limit', 'log_rating', 'cards', 'age', 'student']])\n",
        "\n",
        "rmse = np.sqrt(mean_squared_error(credit_df['balance'], y_pred))\n",
        "\n",
        "print(f\"Root Mean Square Error (RMSE): {rmse}\")"
      ],
      "metadata": {
        "colab": {
          "base_uri": "https://localhost:8080/",
          "height": 0
        },
        "collapsed": true,
        "id": "HBABWjDXCWvt",
        "outputId": "eb00346f-07fe-4264-a433-e40a48626e22"
      },
      "execution_count": 35,
      "outputs": [
        {
          "output_type": "stream",
          "name": "stdout",
          "text": [
            "Root Mean Square Error (RMSE): 186.27840243371077\n"
          ]
        }
      ]
    },
    {
      "cell_type": "code",
      "source": [
        " ### MODELO 2\n",
        " #RMSE\n",
        "\n",
        "# Calculate RMSE between the predicted values and the actual balance values\n",
        "rmse = np.sqrt(mean_squared_error(credit_df['balance'], log_OLS_pred))\n",
        "\n",
        "print(f\"Root Mean Square Error (RMSE): {rmse}\")\n"
      ],
      "metadata": {
        "colab": {
          "base_uri": "https://localhost:8080/",
          "height": 0
        },
        "id": "cEKCvhqX6cNj",
        "outputId": "3e6850a3-437e-4cb1-a3d7-c17f32f15962"
      },
      "execution_count": 36,
      "outputs": [
        {
          "output_type": "stream",
          "name": "stdout",
          "text": [
            "Root Mean Square Error (RMSE): 1127.831075750308\n"
          ]
        }
      ]
    },
    {
      "cell_type": "code",
      "source": [
        " ### MODELO 3\n",
        " #RMSE\n",
        "y_pred = model.predict(X_poly_with_constant)\n",
        "\n",
        "# Calculate RMSE\n",
        "rmse = np.sqrt(mean_squared_error(y, y_pred))\n",
        "\n",
        "print(f\"Root Mean Square Error (RMSE): {rmse}\")"
      ],
      "metadata": {
        "colab": {
          "base_uri": "https://localhost:8080/",
          "height": 0
        },
        "id": "1lhHo2ycFBXM",
        "outputId": "d43bf399-519c-4374-fe72-1e82a87a9f7c"
      },
      "execution_count": 37,
      "outputs": [
        {
          "output_type": "stream",
          "name": "stdout",
          "text": [
            "Root Mean Square Error (RMSE): 145.7921546826576\n"
          ]
        }
      ]
    },
    {
      "cell_type": "code",
      "source": [
        "# MODELO 1 AIC\n",
        "aic = lm_mod.aic\n",
        "\n",
        "print(f\"MODELO 3 AIC: {aic}\")"
      ],
      "metadata": {
        "colab": {
          "base_uri": "https://localhost:8080/",
          "height": 0
        },
        "id": "aJqaWdyuF1a8",
        "outputId": "344182d3-81cd-4b8d-811e-6c33b2a4dd0e"
      },
      "execution_count": 38,
      "outputs": [
        {
          "output_type": "stream",
          "name": "stdout",
          "text": [
            "MODELO 3 AIC: 5330.944700101076\n"
          ]
        }
      ]
    },
    {
      "cell_type": "code",
      "source": [
        "# MODELO 2 AIC\n",
        "aic = log_lm_mod.aic\n",
        "\n",
        "print(f\"MODELO 2 AIC: {aic}\")"
      ],
      "metadata": {
        "colab": {
          "base_uri": "https://localhost:8080/",
          "height": 0
        },
        "id": "BdiAhpZeFdoJ",
        "outputId": "455abc91-7e79-4846-f742-6b33922b4848"
      },
      "execution_count": 39,
      "outputs": [
        {
          "output_type": "stream",
          "name": "stdout",
          "text": [
            "MODELO 2 AIC: 1237.7202793644176\n"
          ]
        }
      ]
    },
    {
      "cell_type": "code",
      "source": [
        "\n",
        "#MODELO 3 AIC\n",
        "aic = model.aic\n",
        "\n",
        "print(f\"MODELO 3 AIC: {aic}\")"
      ],
      "metadata": {
        "colab": {
          "base_uri": "https://localhost:8080/",
          "height": 0
        },
        "id": "Zd3uPWygFWh_",
        "outputId": "6af91643-a884-4d21-a4d6-93b026a1f255"
      },
      "execution_count": 40,
      "outputs": [
        {
          "output_type": "stream",
          "name": "stdout",
          "text": [
            "MODELO 3 AIC: 5162.896434056453\n"
          ]
        }
      ]
    },
    {
      "cell_type": "markdown",
      "source": [
        "Regresion Logistica:"
      ],
      "metadata": {
        "id": "nHB-oCP-LrXK"
      }
    },
    {
      "cell_type": "code",
      "source": [
        "import numpy as np\n",
        "\n",
        "# Crear la variable Credit_Default\n",
        "credit_df['Credit_Default'] = np.where(credit_df['balance'] > 500, 1, 0)"
      ],
      "metadata": {
        "id": "nrE2dxIYLvZ-"
      },
      "execution_count": 41,
      "outputs": []
    },
    {
      "cell_type": "code",
      "source": [
        "import statsmodels.formula.api as smf\n",
        "\n",
        "# Especificar el modelo base\n",
        "logistic_mod = smf.glm(formula='Credit_Default ~ income + student + married',\n",
        "                       data=credit_df,\n",
        "                       family=sm.families.Binomial()).fit()\n",
        "\n",
        "# Resumen del modelo\n",
        "print(logistic_mod.summary())"
      ],
      "metadata": {
        "colab": {
          "base_uri": "https://localhost:8080/",
          "height": 0
        },
        "id": "qiKKEzNLLzps",
        "outputId": "67a85649-1bb8-4a06-983a-89097ea7b39b"
      },
      "execution_count": 50,
      "outputs": [
        {
          "output_type": "stream",
          "name": "stdout",
          "text": [
            "                 Generalized Linear Model Regression Results                  \n",
            "==============================================================================\n",
            "Dep. Variable:         Credit_Default   No. Observations:                  400\n",
            "Model:                            GLM   Df Residuals:                      396\n",
            "Model Family:                Binomial   Df Model:                            3\n",
            "Link Function:                  Logit   Scale:                          1.0000\n",
            "Method:                          IRLS   Log-Likelihood:                -246.86\n",
            "Date:                Fri, 30 Aug 2024   Deviance:                       493.72\n",
            "Time:                        04:49:51   Pearson chi2:                     393.\n",
            "No. Iterations:                     4   Pseudo R-squ. (CS):             0.1393\n",
            "Covariance Type:            nonrobust                                         \n",
            "==================================================================================\n",
            "                     coef    std err          z      P>|z|      [0.025      0.975]\n",
            "----------------------------------------------------------------------------------\n",
            "Intercept         -1.2234      0.240     -5.090      0.000      -1.695      -0.752\n",
            "student[T.Yes]     1.2571      0.387      3.252      0.001       0.499       2.015\n",
            "married[T.Yes]    -0.0293      0.222     -0.132      0.895      -0.464       0.405\n",
            "income             0.0238      0.004      5.997      0.000       0.016       0.032\n",
            "==================================================================================\n"
          ]
        }
      ]
    },
    {
      "cell_type": "code",
      "source": [
        "X = credit_df[['income', 'balance', 'limit', 'rating', 'cards', 'age', 'education',\n",
        "               'gender', 'student', 'married', 'ethnicity']]\n",
        "y = credit_df['Credit_Default']\n",
        "\n",
        "X = pd.get_dummies(X, drop_first=True)\n",
        "\n",
        "X = sm.add_constant(X)\n",
        "\n",
        "print(X.dtypes)\n",
        "\n",
        "X['gender_Female'] = X['gender_Female'].astype(int)\n",
        "X['student_Yes'] = X['student_Yes'].astype(int)\n",
        "X['married_Yes'] = X['married_Yes'].astype(int)\n",
        "X['ethnicity_Asian'] = X['ethnicity_Asian'].astype(int)\n",
        "X['ethnicity_Caucasian'] = X['ethnicity_Caucasian'].astype(int)"
      ],
      "metadata": {
        "colab": {
          "base_uri": "https://localhost:8080/",
          "height": 0
        },
        "id": "nJkqmN8VL2Op",
        "outputId": "8e0c7507-8aac-48da-fce3-da1610e948a2"
      },
      "execution_count": 43,
      "outputs": [
        {
          "output_type": "stream",
          "name": "stdout",
          "text": [
            "const                  float64\n",
            "income                 float64\n",
            "balance                  int64\n",
            "limit                    int64\n",
            "rating                   int64\n",
            "cards                    int64\n",
            "age                      int64\n",
            "education                int64\n",
            "gender_Female             bool\n",
            "student_Yes               bool\n",
            "married_Yes               bool\n",
            "ethnicity_Asian           bool\n",
            "ethnicity_Caucasian       bool\n",
            "dtype: object\n"
          ]
        }
      ]
    },
    {
      "cell_type": "code",
      "source": [
        "from statsmodels.stats.outliers_influence import variance_inflation_factor\n",
        "vif_data = pd.DataFrame()\n",
        "vif_data[\"Variable\"] = X.columns\n",
        "vif_data[\"VIF\"] = [variance_inflation_factor(X.values, i) for i in range(X.shape[1])]\n",
        "\n",
        "print(vif_data)"
      ],
      "metadata": {
        "colab": {
          "base_uri": "https://localhost:8080/",
          "height": 0
        },
        "id": "-MfxnWdAMDPz",
        "outputId": "bd2026ee-6f6b-4277-e051-b904c698a232"
      },
      "execution_count": 44,
      "outputs": [
        {
          "output_type": "stream",
          "name": "stdout",
          "text": [
            "               Variable         VIF\n",
            "0                 const   76.709212\n",
            "1                income   10.755482\n",
            "2               balance   22.272490\n",
            "3                 limit  254.487716\n",
            "4                rating  239.106505\n",
            "5                 cards    1.510935\n",
            "6                   age    1.063226\n",
            "7             education    1.020831\n",
            "8         gender_Female    1.008843\n",
            "9           student_Yes    2.754742\n",
            "10          married_Yes    1.046463\n",
            "11      ethnicity_Asian    1.557823\n",
            "12  ethnicity_Caucasian    1.530202\n"
          ]
        }
      ]
    },
    {
      "cell_type": "code",
      "source": [
        "import pandas as pd\n",
        "from sklearn.model_selection import train_test_split\n",
        "import statsmodels.api as sm\n",
        "import statsmodels.formula.api as smf\n",
        "from sklearn.metrics import accuracy_score, confusion_matrix, roc_auc_score, roc_curve\n",
        "\n",
        "# Assuming 'credit_df' is already defined\n",
        "\n",
        "# Define independent variables (X) and dependent variable (y)\n",
        "X = credit_df[['income', 'student', 'married', 'age', 'cards']]\n",
        "y = credit_df['Credit_Default']\n",
        "\n",
        "# Split the data into train and test sets with stratification\n",
        "X_train, X_test, y_train, y_test = train_test_split(X, y, test_size=0.2, random_state=42, stratify=y)\n",
        "\n",
        "\n",
        "# Combine X_train and y_train to a training dataframe for use in the statsmodels formula API\n",
        "train_df = pd.concat([X_train, y_train], axis=1)\n",
        "\n",
        "# Fit the logistic regression model using the training data\n",
        "logistic_mod = smf.glm(formula='Credit_Default ~ income + student + married + age + cards',\n",
        "                       data=train_df,\n",
        "                       family=sm.families.Binomial()).fit()\n",
        "\n",
        "print(logistic_mod.summary())\n",
        "\n",
        "\n",
        "X_test['pred_prob'] = logistic_mod.predict(X_test)\n",
        "X_test['pred_class'] = (X_test['pred_prob'] >= 0.5).astype(int)\n",
        "\n",
        "# Model's performance\n",
        "accuracy = accuracy_score(y_test, X_test['pred_class'])\n",
        "conf_matrix = confusion_matrix(y_test, X_test['pred_class'])\n",
        "\n",
        "print(f'Accuracy: {accuracy}')\n",
        "print(f'Confusion Matrix:\\n{conf_matrix}')"
      ],
      "metadata": {
        "colab": {
          "base_uri": "https://localhost:8080/",
          "height": 0
        },
        "id": "COoy1e2IMWz8",
        "outputId": "c8c5ed4d-eaf9-48a8-f15f-6793e39dbe4d"
      },
      "execution_count": 51,
      "outputs": [
        {
          "output_type": "stream",
          "name": "stdout",
          "text": [
            "                 Generalized Linear Model Regression Results                  \n",
            "==============================================================================\n",
            "Dep. Variable:         Credit_Default   No. Observations:                  320\n",
            "Model:                            GLM   Df Residuals:                      314\n",
            "Model Family:                Binomial   Df Model:                            5\n",
            "Link Function:                  Logit   Scale:                          1.0000\n",
            "Method:                          IRLS   Log-Likelihood:                -200.56\n",
            "Date:                Fri, 30 Aug 2024   Deviance:                       401.12\n",
            "Time:                        04:50:19   Pearson chi2:                     315.\n",
            "No. Iterations:                     4   Pseudo R-squ. (CS):             0.1227\n",
            "Covariance Type:            nonrobust                                         \n",
            "==================================================================================\n",
            "                     coef    std err          z      P>|z|      [0.025      0.975]\n",
            "----------------------------------------------------------------------------------\n",
            "Intercept         -1.0581      0.507     -2.086      0.037      -2.052      -0.064\n",
            "student[T.Yes]     1.2280      0.450      2.731      0.006       0.347       2.109\n",
            "married[T.Yes]    -0.1393      0.247     -0.563      0.573      -0.624       0.345\n",
            "income             0.0218      0.004      5.075      0.000       0.013       0.030\n",
            "age               -0.0055      0.007     -0.791      0.429      -0.019       0.008\n",
            "cards              0.1035      0.090      1.150      0.250      -0.073       0.280\n",
            "==================================================================================\n",
            "Accuracy: 0.725\n",
            "Confusion Matrix:\n",
            "[[36  6]\n",
            " [16 22]]\n"
          ]
        }
      ]
    },
    {
      "cell_type": "code",
      "source": [
        "print(credit_df['Credit_Default'].value_counts())"
      ],
      "metadata": {
        "colab": {
          "base_uri": "https://localhost:8080/",
          "height": 0
        },
        "id": "jPVywWm1jXlS",
        "outputId": "59da472b-8f4d-4e7c-a4ea-52f9d175ad21"
      },
      "execution_count": 52,
      "outputs": [
        {
          "output_type": "stream",
          "name": "stdout",
          "text": [
            "Credit_Default\n",
            "0    209\n",
            "1    191\n",
            "Name: count, dtype: int64\n"
          ]
        }
      ]
    },
    {
      "cell_type": "code",
      "source": [
        "### Plot the confusion matrix\n",
        "sns.heatmap(conf_matrix, annot=True, fmt='d', cmap='Blues')\n",
        "plt.xlabel('Predicted')\n",
        "plt.ylabel('Actual')\n",
        "plt.title('Confusion Matrix')\n",
        "plt.show()"
      ],
      "metadata": {
        "id": "1gFIUE4nO7Ay",
        "outputId": "fde48a63-4874-4d29-ffbc-117c6ea7136f",
        "colab": {
          "base_uri": "https://localhost:8080/",
          "height": 472
        }
      },
      "execution_count": 53,
      "outputs": [
        {
          "output_type": "display_data",
          "data": {
            "text/plain": [
              "<Figure size 640x480 with 2 Axes>"
            ],
            "image/png": "[encoded data removed]"
          },
          "metadata": {}
        }
      ]
    },
    {
      "cell_type": "code",
      "source": [
        "len(y_test.unique()) > 1\n",
        "y_proba = logistic_mod.predict(X_test)"
      ],
      "metadata": {
        "id": "PoOYy_Bkjj9n"
      },
      "execution_count": 54,
      "outputs": []
    },
    {
      "cell_type": "code",
      "source": [
        "# ROC curve and ROC area\n",
        "fpr, tpr, thresholds = roc_curve(y_test, y_proba)\n",
        "roc_auc = auc(fpr, tpr)\n",
        "\n",
        "# Plot the ROC curve\n",
        "plt.figure()\n",
        "plt.plot(fpr, tpr, color='orange', lw=2, label=f'ROC curve (area = {roc_auc:.2f})')\n",
        "plt.plot([0, 1], [0, 1], color='navy', lw=2, linestyle='--')\n",
        "plt.xlim([0.0, 1.0])\n",
        "plt.ylim([0.0, 1.05])\n",
        "plt.xlabel('False Positive Rate')\n",
        "plt.ylabel('True Positive Rate')\n",
        "plt.title('Receiver Operating Characteristic')\n",
        "plt.legend(loc='lower right')\n",
        "plt.show()"
      ],
      "metadata": {
        "colab": {
          "base_uri": "https://localhost:8080/",
          "height": 472
        },
        "id": "36UKe3PfjruC",
        "outputId": "a7d75670-c6e2-4d67-823b-77143db01ef0"
      },
      "execution_count": 55,
      "outputs": [
        {
          "output_type": "display_data",
          "data": {
            "text/plain": [
              "<Figure size 640x480 with 1 Axes>"
            ],
            "image/png": "[encoded data removed]"
          },
          "metadata": {}
        }
      ]
    },
    {
      "cell_type": "markdown",
      "source": [
        "**Breve descripción de los principales hallazgos identificados a través del proceso de analítica\n",
        "de datos de I – IV.**\n",
        "\n",
        "En conclusion, despues de haber elegido el Modelo 2 como el mejor de los MLRM, Las variables student, income, rating y age son todas estadísticamente significativas, con p-valores muy bajos, lo que resalta su importancia en la predicción del balance. De esta manera, ser estudiante se asocia con un aumento significativo en el balance de 417 unidades, mientras que un mayor ingreso reduce el balance. Adicionalmente a esto, la variable rating también tiene un impacto positivo significativo, con un coeficiente de 3.98, lo que sugiere que un mayor rating está asociado con un mayor balance. La variable age tiene un efecto negativo moderado pero significativo en el balance. Adicionalmente a esto, el número de condición es 1.66e+03, lo que podría indicar cierta multicolinealidad, aunque despues de sacar los VIF se busco reducirla en su mayoria, como se puede apreciar el test de Jarque-Bera, que una ligera desviación de la normalidad, pero no lo suficientemente fuerte como para comprometer significativamente la validez del modelo.\n",
        "\n",
        "Por otro lado, la Regresion Logistica, muestra que el estado de ser estudiante y el nivel de ingresos son predictores significativos del incumplimiento de crédito (Credit_Default). Específicamente, ser estudiante aumenta significativamente la probabilidad de incumplimiento, mientras que un incremento en el ingreso también está asociado con un mayor riesgo de incumplimiento. Por otro lado, variables como estar casado, la edad y el número de tarjetas no tienen un impacto estadísticamente significativo en la probabilidad de incumplimiento.\n",
        "\n",
        "El modelo presenta un nivel de discriminación aceptable, con un AUC de 0.76 en la curva ROC, lo que indica que el modelo tiene una capacidad moderada para distinguir entre aquellos que incumplen y aquellos que no. Sin embargo, la matriz de confusión revela que el modelo tiene un número considerable de falsos negativos, lo que sugiere que hay margen de mejora, especialmente en la identificación de aquellos que incumplen."
      ],
      "metadata": {
        "id": "H8ClotD6ROX2"
      }
    }
  ]
}